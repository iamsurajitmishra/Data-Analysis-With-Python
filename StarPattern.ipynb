{
  "nbformat": 4,
  "nbformat_minor": 0,
  "metadata": {
    "colab": {
      "provenance": [],
      "authorship_tag": "ABX9TyPjjQFJGOIiJs3FwMz3wUYg",
      "include_colab_link": true
    },
    "kernelspec": {
      "name": "python3",
      "display_name": "Python 3"
    },
    "language_info": {
      "name": "python"
    }
  },
  "cells": [
    {
      "cell_type": "markdown",
      "metadata": {
        "id": "view-in-github",
        "colab_type": "text"
      },
      "source": [
        "<a href=\"https://colab.research.google.com/github/iamsurajitmishra/Data-Analysis-With-Python/blob/main/StarPattern.ipynb\" target=\"_parent\"><img src=\"https://colab.research.google.com/assets/colab-badge.svg\" alt=\"Open In Colab\"/></a>"
      ]
    },
    {
      "cell_type": "markdown",
      "source": [
        "* Star pattern in python"
      ],
      "metadata": {
        "id": "TL6Ig4EbBxWG"
      }
    },
    {
      "cell_type": "markdown",
      "source": [
        "* Printing Suqare"
      ],
      "metadata": {
        "id": "FFyPpLhMCRGS"
      }
    },
    {
      "cell_type": "code",
      "execution_count": 2,
      "metadata": {
        "colab": {
          "base_uri": "https://localhost:8080/"
        },
        "id": "5vbMwMEtBwIM",
        "outputId": "7fe92f31-63c5-4434-bf1e-8764433d08fd"
      },
      "outputs": [
        {
          "output_type": "stream",
          "name": "stdout",
          "text": [
            "# # # # # \n",
            "# # # # # \n",
            "# # # # # \n",
            "# # # # # \n",
            "# # # # # \n"
          ]
        }
      ],
      "source": [
        "for i in range(5):\n",
        "  for j in range(5):\n",
        "    print('#', end=' ')\n",
        "  print()"
      ]
    },
    {
      "cell_type": "markdown",
      "source": [
        "* Right angled triangle"
      ],
      "metadata": {
        "id": "SX0h9LpLCyKy"
      }
    },
    {
      "cell_type": "code",
      "source": [
        "for i in range(10):\n",
        "  for j in range(i+1):\n",
        "    print('*', end=' ')\n",
        "  print()"
      ],
      "metadata": {
        "colab": {
          "base_uri": "https://localhost:8080/"
        },
        "id": "vicNWqGWCJDa",
        "outputId": "314f8386-2106-4563-f4ba-9449bf5cd3c4"
      },
      "execution_count": 3,
      "outputs": [
        {
          "output_type": "stream",
          "name": "stdout",
          "text": [
            "* \n",
            "* * \n",
            "* * * \n",
            "* * * * \n",
            "* * * * * \n",
            "* * * * * * \n",
            "* * * * * * * \n",
            "* * * * * * * * \n",
            "* * * * * * * * * \n",
            "* * * * * * * * * * \n"
          ]
        }
      ]
    },
    {
      "cell_type": "markdown",
      "source": [
        "* Upper right angled triangled"
      ],
      "metadata": {
        "id": "5ezIA0ifJA82"
      }
    },
    {
      "cell_type": "code",
      "source": [
        "for i in range(10):\n",
        "  for j in range(i,10):\n",
        "    print('*',end=' ')\n",
        "  print()"
      ],
      "metadata": {
        "colab": {
          "base_uri": "https://localhost:8080/"
        },
        "id": "BBI3tU2yInHv",
        "outputId": "f9e424f9-4477-4062-d354-c598b7b93e5d"
      },
      "execution_count": 6,
      "outputs": [
        {
          "output_type": "stream",
          "name": "stdout",
          "text": [
            "* * * * * * * * * * \n",
            "* * * * * * * * * \n",
            "* * * * * * * * \n",
            "* * * * * * * \n",
            "* * * * * * \n",
            "* * * * * \n",
            "* * * * \n",
            "* * * \n",
            "* * \n",
            "* \n"
          ]
        }
      ]
    },
    {
      "cell_type": "code",
      "source": [
        "for i in range(11):\n",
        "  for j in range(1,i+1):\n",
        "    print(j, end='')\n",
        "  print()"
      ],
      "metadata": {
        "colab": {
          "base_uri": "https://localhost:8080/"
        },
        "id": "6-3APHfvI5BV",
        "outputId": "2d734818-58d0-41da-a665-d2d9c4b862cb"
      },
      "execution_count": 13,
      "outputs": [
        {
          "output_type": "stream",
          "name": "stdout",
          "text": [
            "\n",
            "1\n",
            "12\n",
            "123\n",
            "1234\n",
            "12345\n",
            "123456\n",
            "1234567\n",
            "12345678\n",
            "123456789\n",
            "12345678910\n"
          ]
        }
      ]
    },
    {
      "cell_type": "code",
      "source": [
        "n = 10\n",
        "for i in range(n):\n",
        "  for j in range(i):\n",
        "    print('', end='')\n",
        "  for k in range(i,n):\n",
        "    print('*', end='')\n",
        "  print()\n"
      ],
      "metadata": {
        "colab": {
          "base_uri": "https://localhost:8080/"
        },
        "id": "xrFMOLMBKNtc",
        "outputId": "af6faaea-8014-4957-f252-e8ed129a7620"
      },
      "execution_count": 18,
      "outputs": [
        {
          "output_type": "stream",
          "name": "stdout",
          "text": [
            "**********\n",
            "*********\n",
            "********\n",
            "*******\n",
            "******\n",
            "*****\n",
            "****\n",
            "***\n",
            "**\n",
            "*\n"
          ]
        }
      ]
    },
    {
      "cell_type": "markdown",
      "source": [
        "* Pyramid"
      ],
      "metadata": {
        "id": "ZzL2T4e0abVk"
      }
    },
    {
      "cell_type": "code",
      "source": [
        "for i in range(10):\n",
        "  ## Printing space\n",
        "  for j in range(i,10):\n",
        "    print(' ', end='')\n",
        "\n",
        "  ## Printing first half of the pyramid\n",
        "  for k in range(i+1):\n",
        "    print(\"*\", end='')\n",
        "\n",
        "  ## Printing second half of the pyramid\n",
        "  for l in range(i):\n",
        "    print('*', end='')\n",
        "  print()"
      ],
      "metadata": {
        "colab": {
          "base_uri": "https://localhost:8080/"
        },
        "id": "kp8TAVRkLEjU",
        "outputId": "70fbe883-aff5-4602-af93-b853dbed7269"
      },
      "execution_count": 40,
      "outputs": [
        {
          "output_type": "stream",
          "name": "stdout",
          "text": [
            "          *\n",
            "         ***\n",
            "        *****\n",
            "       *******\n",
            "      *********\n",
            "     ***********\n",
            "    *************\n",
            "   ***************\n",
            "  *****************\n",
            " *******************\n"
          ]
        }
      ]
    },
    {
      "cell_type": "code",
      "source": [
        "n = 10\n",
        "for i in range(n-1):\n",
        "  ## Printing space\n",
        "  for j in range(i,n-1):\n",
        "    print(' ', end='')\n",
        "\n",
        "  ## Printing first half of the pyramid\n",
        "  for k in range(i+1):\n",
        "    print(\"*\", end='')\n",
        "\n",
        "  ## Printing second half of the pyramid\n",
        "  for l in range(i):\n",
        "    print('*', end='')\n",
        "  print()\n",
        "\n",
        "\n",
        "for i in range(n-1):\n",
        "  ## Printing space\n",
        "  for j in range(i+1):\n",
        "    print(' ', end='')\n",
        "\n",
        "  ## Printing first half of the pyramid\n",
        "  for k in range(i,n-1):\n",
        "    print(\"*\", end='')\n",
        "\n",
        "  ## Printing second half of the pyramid\n",
        "  for l in range(i+1,n-1):\n",
        "    print('*', end='')\n",
        "  print()"
      ],
      "metadata": {
        "colab": {
          "base_uri": "https://localhost:8080/"
        },
        "id": "zEuaeTWAdLmT",
        "outputId": "768472b4-8ffd-46e6-eaa5-0c8610ad976d"
      },
      "execution_count": 48,
      "outputs": [
        {
          "output_type": "stream",
          "name": "stdout",
          "text": [
            "         *\n",
            "        ***\n",
            "       *****\n",
            "      *******\n",
            "     *********\n",
            "    ***********\n",
            "   *************\n",
            "  ***************\n",
            " *****************\n",
            " *****************\n",
            "  ***************\n",
            "   *************\n",
            "    ***********\n",
            "     *********\n",
            "      *******\n",
            "       *****\n",
            "        ***\n",
            "         *\n"
          ]
        }
      ]
    },
    {
      "cell_type": "code",
      "source": [],
      "metadata": {
        "id": "Ib6xejiWZyOV"
      },
      "execution_count": null,
      "outputs": []
    }
  ]
}