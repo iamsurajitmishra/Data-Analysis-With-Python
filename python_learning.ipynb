{
  "nbformat": 4,
  "nbformat_minor": 0,
  "metadata": {
    "colab": {
      "provenance": [],
      "authorship_tag": "ABX9TyO3eaEiK0V0ynkNiSi/jWFA",
      "include_colab_link": true
    },
    "kernelspec": {
      "name": "python3",
      "display_name": "Python 3"
    },
    "language_info": {
      "name": "python"
    }
  },
  "cells": [
    {
      "cell_type": "markdown",
      "metadata": {
        "id": "view-in-github",
        "colab_type": "text"
      },
      "source": [
        "<a href=\"https://colab.research.google.com/github/iamsurajitmishra/Data-Analysis-With-Python/blob/main/python_learning.ipynb\" target=\"_parent\"><img src=\"https://colab.research.google.com/assets/colab-badge.svg\" alt=\"Open In Colab\"/></a>"
      ]
    },
    {
      "cell_type": "code",
      "execution_count": 1,
      "metadata": {
        "colab": {
          "base_uri": "https://localhost:8080/"
        },
        "id": "UNYpWq_f7bsc",
        "outputId": "e801f4a8-3d90-4495-9aea-73d9cd036f20"
      },
      "outputs": [
        {
          "output_type": "stream",
          "name": "stdout",
          "text": [
            "i am surajit\n"
          ]
        }
      ],
      "source": [
        "print('i am surajit')"
      ]
    },
    {
      "cell_type": "code",
      "source": [
        "a = 10\n",
        "b = 20\n",
        "print('Answer =',(a+b))"
      ],
      "metadata": {
        "colab": {
          "base_uri": "https://localhost:8080/"
        },
        "id": "wv8Fk6Lk7ret",
        "outputId": "17deb114-6ae5-45b6-f857-e839f4ae64be"
      },
      "execution_count": 3,
      "outputs": [
        {
          "output_type": "stream",
          "name": "stdout",
          "text": [
            "Answer = 30\n"
          ]
        }
      ]
    },
    {
      "cell_type": "code",
      "source": [
        "for i in range(1,11):\n",
        "  print(i, end = ' ')"
      ],
      "metadata": {
        "colab": {
          "base_uri": "https://localhost:8080/"
        },
        "id": "qdoQNzIa7-0h",
        "outputId": "152b3eaf-5eda-4944-97bf-2b314221d453"
      },
      "execution_count": 6,
      "outputs": [
        {
          "output_type": "stream",
          "name": "stdout",
          "text": [
            "1 2 3 4 5 6 7 8 9 10 "
          ]
        }
      ]
    },
    {
      "cell_type": "code",
      "source": [
        "no = 1001\n",
        "if no%2 == 0:\n",
        "  print(\"No is even\")\n",
        "else:\n",
        "  print(\"No is Odd\")"
      ],
      "metadata": {
        "colab": {
          "base_uri": "https://localhost:8080/"
        },
        "id": "tf9JNdr082EN",
        "outputId": "fbbd1b43-7876-46a5-cf9b-ec9cff54e3f3"
      },
      "execution_count": 8,
      "outputs": [
        {
          "output_type": "stream",
          "name": "stdout",
          "text": [
            "No is Odd\n"
          ]
        }
      ]
    },
    {
      "cell_type": "code",
      "source": [
        "l1 = [10,20,30,40,50]\n",
        "l2 = [10,20,30,40,50]\n",
        "\n",
        "l3 = l1+l2\n",
        "print(l3)"
      ],
      "metadata": {
        "colab": {
          "base_uri": "https://localhost:8080/"
        },
        "id": "prfgCAxG9aSk",
        "outputId": "47090a7e-e12b-4901-ff11-e2f23a267763"
      },
      "execution_count": 11,
      "outputs": [
        {
          "output_type": "stream",
          "name": "stdout",
          "text": [
            "[10, 20, 30, 40, 50, 10, 20, 30, 40, 50]\n"
          ]
        }
      ]
    },
    {
      "cell_type": "markdown",
      "source": [
        "**List slicing**"
      ],
      "metadata": {
        "id": "rRKuKiAG-exl"
      }
    },
    {
      "cell_type": "code",
      "source": [
        "l4 = l1[0:len(l3)]\n",
        "print(l4)\n",
        "print(len(l4))\n",
        "print(l4[0])\n",
        "print(l4[1])"
      ],
      "metadata": {
        "colab": {
          "base_uri": "https://localhost:8080/"
        },
        "id": "rpEXUEZx-ls0",
        "outputId": "ddd70775-ab0c-48de-af2e-58e425c453d9"
      },
      "execution_count": 16,
      "outputs": [
        {
          "output_type": "stream",
          "name": "stdout",
          "text": [
            "[10, 20, 30, 40, 50]\n",
            "5\n",
            "10\n",
            "20\n"
          ]
        }
      ]
    },
    {
      "cell_type": "markdown",
      "source": [
        "**Sort list**"
      ],
      "metadata": {
        "id": "bJRJdQLkD_fV"
      }
    },
    {
      "cell_type": "code",
      "source": [
        "l5 = [1,2,3,4,5,6]\n",
        "print(l5)\n",
        "l5.sort(reverse = True)\n",
        "print(l5)\n",
        "\n",
        "\n",
        "for i in range(0, len(l5)):\n",
        "  print(l5[i], end = ' ')\n",
        "\n",
        "print()\n",
        "## Reverse sort\n",
        "print(l5[::-1])"
      ],
      "metadata": {
        "colab": {
          "base_uri": "https://localhost:8080/"
        },
        "id": "nnoPXVSrD6UA",
        "outputId": "ef84972c-eb4b-48c1-b2b3-c7e17e6906df"
      },
      "execution_count": 40,
      "outputs": [
        {
          "output_type": "stream",
          "name": "stdout",
          "text": [
            "[1, 2, 3, 4, 5, 6]\n",
            "[6, 5, 4, 3, 2, 1]\n",
            "6 5 4 3 2 1 \n",
            "[1, 2, 3, 4, 5, 6]\n"
          ]
        }
      ]
    },
    {
      "cell_type": "markdown",
      "source": [
        "**Slicing -> [start:stop:step]**"
      ],
      "metadata": {
        "id": "8TIMBI0-IHQL"
      }
    },
    {
      "cell_type": "code",
      "source": [],
      "metadata": {
        "id": "6A5OWy4vIQKW"
      },
      "execution_count": null,
      "outputs": []
    }
  ]
}