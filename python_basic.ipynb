{
  "nbformat": 4,
  "nbformat_minor": 0,
  "metadata": {
    "colab": {
      "provenance": [],
      "authorship_tag": "ABX9TyN9sJF1aV/K/RZdATq77T9b",
      "include_colab_link": true
    },
    "kernelspec": {
      "name": "python3",
      "display_name": "Python 3"
    },
    "language_info": {
      "name": "python"
    }
  },
  "cells": [
    {
      "cell_type": "markdown",
      "metadata": {
        "id": "view-in-github",
        "colab_type": "text"
      },
      "source": [
        "<a href=\"https://colab.research.google.com/github/iamsurajitmishra/Data-Analysis-With-Python/blob/main/python_basic.ipynb\" target=\"_parent\"><img src=\"https://colab.research.google.com/assets/colab-badge.svg\" alt=\"Open In Colab\"/></a>"
      ]
    },
    {
      "cell_type": "markdown",
      "source": [
        " # *Basic Python*"
      ],
      "metadata": {
        "id": "BK3rXj_axXUc"
      }
    },
    {
      "cell_type": "markdown",
      "source": [
        "**Lession 1**"
      ],
      "metadata": {
        "id": "Nl9oGuHgys5W"
      }
    },
    {
      "cell_type": "code",
      "source": [
        "print('Hello, python!')"
      ],
      "metadata": {
        "colab": {
          "base_uri": "https://localhost:8080/"
        },
        "id": "hdIfu8JZxU1d",
        "outputId": "5da50410-1aa9-4338-9fe1-b90c5354a227"
      },
      "execution_count": 1,
      "outputs": [
        {
          "output_type": "stream",
          "name": "stdout",
          "text": [
            "Hello, python!\n"
          ]
        }
      ]
    },
    {
      "cell_type": "markdown",
      "source": [
        "* *Separator in print(1,2,sep='-')*\n",
        "\n",
        "\n",
        "\n"
      ],
      "metadata": {
        "id": "RoXc3ByA2Zcc"
      }
    },
    {
      "cell_type": "code",
      "source": [
        "print(1,2,3,4,5,6, sep = '-')"
      ],
      "metadata": {
        "colab": {
          "base_uri": "https://localhost:8080/"
        },
        "id": "51DyUQfdyI74",
        "outputId": "3677f1f0-c485-4a7c-e7a5-a9b51063f192"
      },
      "execution_count": null,
      "outputs": [
        {
          "output_type": "stream",
          "name": "stdout",
          "text": [
            "1-2-3-4-5-6\n"
          ]
        }
      ]
    },
    {
      "cell_type": "code",
      "source": [
        "for i in range(10):\n",
        "  print(i, end = ' ')"
      ],
      "metadata": {
        "colab": {
          "base_uri": "https://localhost:8080/"
        },
        "id": "HFVOsKPY3BwZ",
        "outputId": "8b970390-2e0f-46a0-e59a-581b80def349"
      },
      "execution_count": null,
      "outputs": [
        {
          "output_type": "stream",
          "name": "stdout",
          "text": [
            "0 1 2 3 4 5 6 7 8 9 "
          ]
        }
      ]
    },
    {
      "cell_type": "markdown",
      "source": [
        "* help() => Show doc of any function"
      ],
      "metadata": {
        "id": "zfzXCAkt2XdX"
      }
    },
    {
      "cell_type": "code",
      "source": [
        "print(help(print))"
      ],
      "metadata": {
        "colab": {
          "base_uri": "https://localhost:8080/"
        },
        "id": "T3Cr3nwPzA01",
        "outputId": "f9943ac1-8609-4fbe-ad76-890bebb337a2"
      },
      "execution_count": null,
      "outputs": [
        {
          "output_type": "stream",
          "name": "stdout",
          "text": [
            "Help on built-in function print in module builtins:\n",
            "\n",
            "print(...)\n",
            "    print(value, ..., sep=' ', end='\\n', file=sys.stdout, flush=False)\n",
            "    \n",
            "    Prints the values to a stream, or to sys.stdout by default.\n",
            "    Optional keyword arguments:\n",
            "    file:  a file-like object (stream); defaults to the current sys.stdout.\n",
            "    sep:   string inserted between values, default a space.\n",
            "    end:   string appended after the last value, default a newline.\n",
            "    flush: whether to forcibly flush the stream.\n",
            "\n",
            "None\n"
          ]
        }
      ]
    },
    {
      "cell_type": "markdown",
      "source": [
        "* Excersizes -\n",
        "\n",
        "1. The population of a town is 198568. Out of them 45312 are men and 35678 are women. Find the number of children in the town."
      ],
      "metadata": {
        "id": "X9ZUCgva4oos"
      }
    },
    {
      "cell_type": "code",
      "source": [
        "population = 198568\n",
        "men = 45312\n",
        "women = 35678\n",
        "print(f'No of children is = {population-(men+women)}')"
      ],
      "metadata": {
        "colab": {
          "base_uri": "https://localhost:8080/"
        },
        "id": "NJLD0O8azCPU",
        "outputId": "f8375060-ddd2-4c92-ad50-ffd657a41d4c"
      },
      "execution_count": null,
      "outputs": [
        {
          "output_type": "stream",
          "name": "stdout",
          "text": [
            "No of children is = 117578\n"
          ]
        }
      ]
    },
    {
      "cell_type": "markdown",
      "source": [
        "2. A shopkeeper has 2425 boxes of 24 pencils each. How many pencils do all the boxes have in all?"
      ],
      "metadata": {
        "id": "fb-4nKIc533Q"
      }
    },
    {
      "cell_type": "code",
      "source": [
        "boxes = 2425\n",
        "pencil_in_each_box = 24\n",
        "print(f'Total no of pencil = {boxes * pencil_in_each_box}')"
      ],
      "metadata": {
        "colab": {
          "base_uri": "https://localhost:8080/"
        },
        "id": "8u8IBctXy_SX",
        "outputId": "3a9cb675-81f6-40c1-c47a-eb0259b3de1d"
      },
      "execution_count": null,
      "outputs": [
        {
          "output_type": "stream",
          "name": "stdout",
          "text": [
            "Total no of pencil = 58200\n"
          ]
        }
      ]
    },
    {
      "cell_type": "markdown",
      "source": [
        "3. Linda bought a coat for `$2265` and a saree for `$2150`. She gave `$5000` to the shopkeeper. How much money did the shopkeeper return to her?"
      ],
      "metadata": {
        "id": "OFiFLE6K6vq3"
      }
    },
    {
      "cell_type": "code",
      "source": [
        "total = 5000\n",
        "coat = 2265\n",
        "saree = 2150\n",
        "print(f'Shop keeper will return - {5000 - (2265+2150)}$')"
      ],
      "metadata": {
        "colab": {
          "base_uri": "https://localhost:8080/"
        },
        "id": "yXoyvVlK6hTG",
        "outputId": "6a74cf0c-1699-4dd4-f86a-6b09ae6199e6"
      },
      "execution_count": null,
      "outputs": [
        {
          "output_type": "stream",
          "name": "stdout",
          "text": [
            "Shop keeper will return - 585$\n"
          ]
        }
      ]
    },
    {
      "cell_type": "code",
      "source": [
        "!pip install jovian --upgrade --quiet"
      ],
      "metadata": {
        "id": "fj76dWVj7kUm",
        "colab": {
          "base_uri": "https://localhost:8080/"
        },
        "outputId": "dbd897af-894d-4a73-9179-0733d74fa92a"
      },
      "execution_count": 2,
      "outputs": [
        {
          "output_type": "stream",
          "name": "stdout",
          "text": [
            "\u001b[?25l     \u001b[90m━━━━━━━━━━━━━━━━━━━━━━━━━━━━━━━━━━━━━━━━\u001b[0m \u001b[32m0.0/68.6 kB\u001b[0m \u001b[31m?\u001b[0m eta \u001b[36m-:--:--\u001b[0m\r\u001b[2K     \u001b[90m━━━━━━━━━━━━━━━━━━━━━━━━━━━━━━━━━━━━━━━━\u001b[0m \u001b[32m68.6/68.6 kB\u001b[0m \u001b[31m3.3 MB/s\u001b[0m eta \u001b[36m0:00:00\u001b[0m\n",
            "\u001b[?25h  Preparing metadata (setup.py) ... \u001b[?25l\u001b[?25hdone\n",
            "  Building wheel for uuid (setup.py) ... \u001b[?25l\u001b[?25hdone\n"
          ]
        }
      ]
    },
    {
      "cell_type": "code",
      "source": [
        "import jovian\n",
        "jovian.commit(project='Data analysis and python')"
      ],
      "metadata": {
        "id": "vb7HUBQdD4p4",
        "colab": {
          "base_uri": "https://localhost:8080/"
        },
        "outputId": "2ee367eb-04c1-4e29-b518-59b8ed15ca0c"
      },
      "execution_count": 3,
      "outputs": [
        {
          "output_type": "stream",
          "name": "stdout",
          "text": [
            "[jovian] Detected Colab notebook...\u001b[0m\n",
            "[jovian] jovian.commit() is no longer required on Google Colab. If you ran this notebook from Jovian, \n",
            "then just save this file in Colab using Ctrl+S/Cmd+S and it will be updated on Jovian. \n",
            "Also, you can also delete this cell, it's no longer necessary.\u001b[0m\n"
          ]
        }
      ]
    },
    {
      "cell_type": "markdown",
      "source": [
        " **Lession - 2(Branching and looping)**\n",
        "* Branching with if, else and elif\n",
        "* Nested conditions and if expressions\n",
        "* Iteration with while loops\n",
        "* Iterating over containers with for loops\n",
        "* Nested loops, break and continue statements"
      ],
      "metadata": {
        "id": "xqEmC3MOHLtT"
      }
    },
    {
      "cell_type": "code",
      "source": [
        "num = 100001\n",
        "if num % 2 == 0:\n",
        "  print('Inside if') \n",
        "  print('{} is a even number'.format(num))\n",
        "else:\n",
        "  print('Odd number.')"
      ],
      "metadata": {
        "colab": {
          "base_uri": "https://localhost:8080/"
        },
        "id": "7JJZDKkoK1uX",
        "outputId": "1d17042b-a9dd-45ab-c4c4-01291fc707e7"
      },
      "execution_count": null,
      "outputs": [
        {
          "output_type": "stream",
          "name": "stdout",
          "text": [
            "Odd number.\n"
          ]
        }
      ]
    },
    {
      "cell_type": "code",
      "source": [
        "people = ('Rishi','Ridhi','Rdhima')\n",
        "person = 'Ridhi'\n",
        "if person in people:\n",
        "  print('{} is a masketier'.format(person))"
      ],
      "metadata": {
        "colab": {
          "base_uri": "https://localhost:8080/"
        },
        "id": "no26inkRzQiq",
        "outputId": "52d3b33b-27d6-4a24-b304-c01d23ac10d9"
      },
      "execution_count": 4,
      "outputs": [
        {
          "output_type": "stream",
          "name": "stdout",
          "text": [
            "Ridhi is a masketier\n"
          ]
        }
      ]
    },
    {
      "cell_type": "code",
      "source": [
        "today = 'Wednesday'\n",
        "if today == 'Sunday':\n",
        "    print(\"Today is the day of the sun.\")\n",
        "elif today == 'Monday':\n",
        "    print(\"Today is the day of the moon.\")\n",
        "elif today == 'Tuesday':\n",
        "    print(\"Today is the day of Tyr, the god of war.\")\n",
        "elif today == 'Wednesday':\n",
        "    print(\"Today is the day of Odin, the supreme diety.\")\n",
        "elif today == 'Thursday':\n",
        "    print(\"Today is the day of Thor, the god of thunder.\")\n",
        "elif today == 'Friday':\n",
        "    print(\"Today is the day of Frigga, the goddess of beauty.\")\n",
        "elif today == 'Saturday':\n",
        "    print(\"Today is the day of Saturn, the god of fun and feasting.\")"
      ],
      "metadata": {
        "id": "KzddUGcLLPzg",
        "colab": {
          "base_uri": "https://localhost:8080/"
        },
        "outputId": "2268899c-bc79-4913-97f6-b5fa155c0a7a"
      },
      "execution_count": 5,
      "outputs": [
        {
          "output_type": "stream",
          "name": "stdout",
          "text": [
            "Today is the day of Odin, the supreme diety.\n"
          ]
        }
      ]
    },
    {
      "cell_type": "code",
      "source": [
        "a_number = 31\n",
        "if a_number % 2 == 0:\n",
        "    print('{} is divisible by 2'.format(a_number))\n",
        "elif a_number % 3 == 0:\n",
        "    print('{} is divisible by 3'.format(a_number))\n",
        "elif a_number % 5 == 0:\n",
        "    print('{} is divisible by 5'.format(a_number))\n",
        "elif a_number % 7 == 0:\n",
        "    print('{} is divisible by 7'.format(a_number))\n",
        "else:\n",
        "  print('Only divisible by 1 and itself')\n",
        "    "
      ],
      "metadata": {
        "colab": {
          "base_uri": "https://localhost:8080/"
        },
        "id": "bj7dX51P0IeD",
        "outputId": "2fb8a25e-bb40-42bf-d349-e2ce10bc8599"
      },
      "execution_count": 7,
      "outputs": [
        {
          "output_type": "stream",
          "name": "stdout",
          "text": [
            "Only divisible by 1 and itself\n"
          ]
        }
      ]
    },
    {
      "cell_type": "markdown",
      "source": [
        "* Shorthand conditional statement\n",
        "Python provides a shorter syntax, which allows writing such conditions in a single line of code. It is known as a *conditional expression*, sometimes also referred to as a *ternary operator*. It has the following syntax:\n",
        "\n",
        "```\n",
        "x = true_value if condition else false_value\n",
        "```\n",
        "\n",
        "It has the same behavior as the following `if`-`else` block:\n",
        "\n",
        "```\n",
        "if condition:\n",
        "    x = true_value\n",
        "else:\n",
        "    x = false_value\n",
        "```\n",
        "\n",
        "Let's try it out for the example above."
      ],
      "metadata": {
        "id": "gOZTHcoB0-BC"
      }
    },
    {
      "cell_type": "code",
      "source": [
        "num = 421\n",
        "parity = 'even' if num%2 == 0 else 'odd'\n",
        "print(parity)"
      ],
      "metadata": {
        "colab": {
          "base_uri": "https://localhost:8080/"
        },
        "id": "hRIIZtIk0kEp",
        "outputId": "af020950-ca92-47a8-ac1a-3dd8e9b401ee"
      },
      "execution_count": 9,
      "outputs": [
        {
          "output_type": "stream",
          "name": "stdout",
          "text": [
            "odd\n"
          ]
        }
      ]
    },
    {
      "cell_type": "markdown",
      "source": [
        "### The `pass` statement\n",
        "\n",
        "`if` statements cannot be empty, there must be at least one statement in every `if` and `elif` block. You can use the `pass` statement to do nothing and avoid getting an error."
      ],
      "metadata": {
        "id": "2IP5S8Io2PKP"
      }
    },
    {
      "cell_type": "code",
      "source": [
        "from ast import Num\n",
        "if num % 2 == 0:\n",
        "   pass\n",
        "elif num % 3 == 0:\n",
        "    print('{} is divisible by 3 but not divisible by 2'.format(num))"
      ],
      "metadata": {
        "id": "XA5-jArH1zSq"
      },
      "execution_count": 14,
      "outputs": []
    },
    {
      "cell_type": "markdown",
      "source": [
        "* *Looping*\n",
        "  * While Loop\n",
        "  * For Loop"
      ],
      "metadata": {
        "id": "2M5AmU2h2zOP"
      }
    },
    {
      "cell_type": "code",
      "source": [
        "result = 1\n",
        "i = 1\n",
        "while i <= 100:\n",
        "  result = result * i\n",
        "  i = i + 1\n",
        "print('Factorial of 100 is {}'.format(result))"
      ],
      "metadata": {
        "colab": {
          "base_uri": "https://localhost:8080/"
        },
        "id": "A7UuWun42ePv",
        "outputId": "b07d65eb-7526-4599-e428-ec282c5051dc"
      },
      "execution_count": 15,
      "outputs": [
        {
          "output_type": "stream",
          "name": "stdout",
          "text": [
            "Factorial of 100 is 93326215443944152681699238856266700490715968264381621468592963895217599993229915608941463976156518286253697920827223758251185210916864000000000000000000000000\n"
          ]
        }
      ]
    },
    {
      "cell_type": "markdown",
      "source": [
        "* Star printing"
      ],
      "metadata": {
        "id": "E3vPVr1z4B2G"
      }
    },
    {
      "cell_type": "code",
      "source": [
        "line = '*'\n",
        "max_len = 10\n",
        "\n",
        "while len(line) < max_len:\n",
        "  print(line)\n",
        "  line += '*'\n",
        "\n",
        "while len(line) > 0:\n",
        "  print(line)\n",
        "  line = line[:-1]\n",
        "\n"
      ],
      "metadata": {
        "colab": {
          "base_uri": "https://localhost:8080/"
        },
        "id": "W9GjdvU23pb_",
        "outputId": "b7261497-13ab-4064-e405-25fee5171f4b"
      },
      "execution_count": 17,
      "outputs": [
        {
          "output_type": "stream",
          "name": "stdout",
          "text": [
            "*\n",
            "**\n",
            "***\n",
            "****\n",
            "*****\n",
            "******\n",
            "*******\n",
            "********\n",
            "*********\n",
            "**********\n",
            "*********\n",
            "********\n",
            "*******\n",
            "******\n",
            "*****\n",
            "****\n",
            "***\n",
            "**\n",
            "*\n"
          ]
        }
      ]
    },
    {
      "cell_type": "code",
      "source": [
        "hash = '#'\n",
        "for i in range(5):\n",
        "  hash += hash\n",
        "print(hash, end = '\\n')"
      ],
      "metadata": {
        "colab": {
          "base_uri": "https://localhost:8080/"
        },
        "id": "0-WpSvfU9DDF",
        "outputId": "00aaf039-c2e2-44ba-f362-8c72a6ce6b9e"
      },
      "execution_count": 19,
      "outputs": [
        {
          "output_type": "stream",
          "name": "stdout",
          "text": [
            "################################\n"
          ]
        }
      ]
    },
    {
      "cell_type": "markdown",
      "source": [
        "### `break` and `continue` statements\n",
        "\n",
        "You can use the `break` statement within the loop's body to immediately stop the execution and *break* out of the loop (even if the condition provided to `while` still holds true)."
      ],
      "metadata": {
        "id": "g2KiLU9j88Lx"
      }
    },
    {
      "cell_type": "code",
      "source": [
        "i = 1\n",
        "result = 1\n",
        "\n",
        "while i <= 100:\n",
        "    result *= i\n",
        "    if i == 42:\n",
        "        print('Magic number 42 reached! Stopping execution..')\n",
        "        break\n",
        "    i += 1\n",
        "    \n",
        "print('i:', i)\n",
        "print('result:', result)"
      ],
      "metadata": {
        "colab": {
          "base_uri": "https://localhost:8080/"
        },
        "id": "f68Cof0V89vx",
        "outputId": "bba7299c-caa4-4239-dac6-1debf1902a7c"
      },
      "execution_count": 20,
      "outputs": [
        {
          "output_type": "stream",
          "name": "stdout",
          "text": [
            "Magic number 42 reached! Stopping execution..\n",
            "i: 42\n",
            "result: 1405006117752879898543142606244511569936384000000000\n"
          ]
        }
      ]
    }
  ]
}