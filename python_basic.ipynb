{
  "nbformat": 4,
  "nbformat_minor": 0,
  "metadata": {
    "colab": {
      "provenance": [],
      "authorship_tag": "ABX9TyPhq3FDPRbP9r9+s5Yjo86B",
      "include_colab_link": true
    },
    "kernelspec": {
      "name": "python3",
      "display_name": "Python 3"
    },
    "language_info": {
      "name": "python"
    }
  },
  "cells": [
    {
      "cell_type": "markdown",
      "metadata": {
        "id": "view-in-github",
        "colab_type": "text"
      },
      "source": [
        "<a href=\"https://colab.research.google.com/github/iamsurajitmishra/Data-Analysis-With-Python/blob/main/python_basic.ipynb\" target=\"_parent\"><img src=\"https://colab.research.google.com/assets/colab-badge.svg\" alt=\"Open In Colab\"/></a>"
      ]
    },
    {
      "cell_type": "code",
      "execution_count": 1,
      "metadata": {
        "colab": {
          "base_uri": "https://localhost:8080/"
        },
        "id": "JGSwRAr2x5wG",
        "outputId": "758c6e76-e524-4624-bfc9-8fd77638c863"
      },
      "outputs": [
        {
          "output_type": "stream",
          "name": "stdout",
          "text": [
            "Welcome to python!\n"
          ]
        }
      ],
      "source": [
        "print(\"Welcome to python!\")"
      ]
    },
    {
      "cell_type": "code",
      "source": [
        "print(1,2,3,4,5,6, sep = '-')"
      ],
      "metadata": {
        "colab": {
          "base_uri": "https://localhost:8080/"
        },
        "id": "51DyUQfdyI74",
        "outputId": "2234ee61-29dc-41bd-8c70-c2f1c39b4e1f"
      },
      "execution_count": 2,
      "outputs": [
        {
          "output_type": "stream",
          "name": "stdout",
          "text": [
            "1-2-3-4-5-6\n"
          ]
        }
      ]
    },
    {
      "cell_type": "code",
      "source": [],
      "metadata": {
        "id": "T3Cr3nwPzA01"
      },
      "execution_count": null,
      "outputs": []
    },
    {
      "cell_type": "code",
      "source": [
        "# Python"
      ],
      "metadata": {
        "id": "NJLD0O8azCPU"
      },
      "execution_count": 5,
      "outputs": []
    },
    {
      "cell_type": "markdown",
      "source": [
        "# Mark down"
      ],
      "metadata": {
        "id": "VpAowAOj0wuW"
      }
    },
    {
      "cell_type": "code",
      "source": [],
      "metadata": {
        "id": "8u8IBctXy_SX"
      },
      "execution_count": null,
      "outputs": []
    }
  ]
}