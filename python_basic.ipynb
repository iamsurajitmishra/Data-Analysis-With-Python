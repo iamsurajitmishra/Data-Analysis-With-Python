{
  "nbformat": 4,
  "nbformat_minor": 0,
  "metadata": {
    "colab": {
      "provenance": [],
      "authorship_tag": "ABX9TyP5FaeyBFfMEoKkfJ6smUcO",
      "include_colab_link": true
    },
    "kernelspec": {
      "name": "python3",
      "display_name": "Python 3"
    },
    "language_info": {
      "name": "python"
    }
  },
  "cells": [
    {
      "cell_type": "markdown",
      "metadata": {
        "id": "view-in-github",
        "colab_type": "text"
      },
      "source": [
        "<a href=\"https://colab.research.google.com/github/iamsurajitmishra/Data-Analysis-With-Python/blob/main/python_basic.ipynb\" target=\"_parent\"><img src=\"https://colab.research.google.com/assets/colab-badge.svg\" alt=\"Open In Colab\"/></a>"
      ]
    },
    {
      "cell_type": "markdown",
      "source": [
        " # *Basic Python*"
      ],
      "metadata": {
        "id": "BK3rXj_axXUc"
      }
    },
    {
      "cell_type": "markdown",
      "source": [
        "**Lession 1**"
      ],
      "metadata": {
        "id": "Nl9oGuHgys5W"
      }
    },
    {
      "cell_type": "code",
      "source": [
        "print('Hello, python!')"
      ],
      "metadata": {
        "colab": {
          "base_uri": "https://localhost:8080/"
        },
        "id": "hdIfu8JZxU1d",
        "outputId": "5da50410-1aa9-4338-9fe1-b90c5354a227"
      },
      "execution_count": null,
      "outputs": [
        {
          "output_type": "stream",
          "name": "stdout",
          "text": [
            "Hello, python!\n"
          ]
        }
      ]
    },
    {
      "cell_type": "markdown",
      "source": [
        "* *Separator in print(1,2,sep='-')*\n",
        "\n",
        "\n",
        "\n"
      ],
      "metadata": {
        "id": "RoXc3ByA2Zcc"
      }
    },
    {
      "cell_type": "code",
      "source": [
        "print(1,2,3,4,5,6, sep = '-')"
      ],
      "metadata": {
        "colab": {
          "base_uri": "https://localhost:8080/"
        },
        "id": "51DyUQfdyI74",
        "outputId": "3677f1f0-c485-4a7c-e7a5-a9b51063f192"
      },
      "execution_count": null,
      "outputs": [
        {
          "output_type": "stream",
          "name": "stdout",
          "text": [
            "1-2-3-4-5-6\n"
          ]
        }
      ]
    },
    {
      "cell_type": "code",
      "source": [
        "for i in range(10):\n",
        "  print(i, end = ' ')"
      ],
      "metadata": {
        "colab": {
          "base_uri": "https://localhost:8080/"
        },
        "id": "HFVOsKPY3BwZ",
        "outputId": "8b970390-2e0f-46a0-e59a-581b80def349"
      },
      "execution_count": null,
      "outputs": [
        {
          "output_type": "stream",
          "name": "stdout",
          "text": [
            "0 1 2 3 4 5 6 7 8 9 "
          ]
        }
      ]
    },
    {
      "cell_type": "markdown",
      "source": [
        "* help() => Show doc of any function"
      ],
      "metadata": {
        "id": "zfzXCAkt2XdX"
      }
    },
    {
      "cell_type": "code",
      "source": [
        "print(help(print))"
      ],
      "metadata": {
        "colab": {
          "base_uri": "https://localhost:8080/"
        },
        "id": "T3Cr3nwPzA01",
        "outputId": "f9943ac1-8609-4fbe-ad76-890bebb337a2"
      },
      "execution_count": null,
      "outputs": [
        {
          "output_type": "stream",
          "name": "stdout",
          "text": [
            "Help on built-in function print in module builtins:\n",
            "\n",
            "print(...)\n",
            "    print(value, ..., sep=' ', end='\\n', file=sys.stdout, flush=False)\n",
            "    \n",
            "    Prints the values to a stream, or to sys.stdout by default.\n",
            "    Optional keyword arguments:\n",
            "    file:  a file-like object (stream); defaults to the current sys.stdout.\n",
            "    sep:   string inserted between values, default a space.\n",
            "    end:   string appended after the last value, default a newline.\n",
            "    flush: whether to forcibly flush the stream.\n",
            "\n",
            "None\n"
          ]
        }
      ]
    },
    {
      "cell_type": "markdown",
      "source": [
        "* Excersizes -\n",
        "\n",
        "1. The population of a town is 198568. Out of them 45312 are men and 35678 are women. Find the number of children in the town."
      ],
      "metadata": {
        "id": "X9ZUCgva4oos"
      }
    },
    {
      "cell_type": "code",
      "source": [
        "population = 198568\n",
        "men = 45312\n",
        "women = 35678\n",
        "print(f'No of children is = {population-(men+women)}')"
      ],
      "metadata": {
        "colab": {
          "base_uri": "https://localhost:8080/"
        },
        "id": "NJLD0O8azCPU",
        "outputId": "f8375060-ddd2-4c92-ad50-ffd657a41d4c"
      },
      "execution_count": null,
      "outputs": [
        {
          "output_type": "stream",
          "name": "stdout",
          "text": [
            "No of children is = 117578\n"
          ]
        }
      ]
    },
    {
      "cell_type": "markdown",
      "source": [
        "2. A shopkeeper has 2425 boxes of 24 pencils each. How many pencils do all the boxes have in all?"
      ],
      "metadata": {
        "id": "fb-4nKIc533Q"
      }
    },
    {
      "cell_type": "code",
      "source": [
        "boxes = 2425\n",
        "pencil_in_each_box = 24\n",
        "print(f'Total no of pencil = {boxes * pencil_in_each_box}')"
      ],
      "metadata": {
        "colab": {
          "base_uri": "https://localhost:8080/"
        },
        "id": "8u8IBctXy_SX",
        "outputId": "3a9cb675-81f6-40c1-c47a-eb0259b3de1d"
      },
      "execution_count": null,
      "outputs": [
        {
          "output_type": "stream",
          "name": "stdout",
          "text": [
            "Total no of pencil = 58200\n"
          ]
        }
      ]
    },
    {
      "cell_type": "markdown",
      "source": [
        "3. Linda bought a coat for `$2265` and a saree for `$2150`. She gave `$5000` to the shopkeeper. How much money did the shopkeeper return to her?"
      ],
      "metadata": {
        "id": "OFiFLE6K6vq3"
      }
    },
    {
      "cell_type": "code",
      "source": [
        "total = 5000\n",
        "coat = 2265\n",
        "saree = 2150\n",
        "print(f'Shop keeper will return - {5000 - (2265+2150)}$')"
      ],
      "metadata": {
        "colab": {
          "base_uri": "https://localhost:8080/"
        },
        "id": "yXoyvVlK6hTG",
        "outputId": "6a74cf0c-1699-4dd4-f86a-6b09ae6199e6"
      },
      "execution_count": null,
      "outputs": [
        {
          "output_type": "stream",
          "name": "stdout",
          "text": [
            "Shop keeper will return - 585$\n"
          ]
        }
      ]
    },
    {
      "cell_type": "code",
      "source": [
        "!pip install jovian --upgrade --quiet"
      ],
      "metadata": {
        "id": "fj76dWVj7kUm",
        "colab": {
          "base_uri": "https://localhost:8080/"
        },
        "outputId": "dbd897af-894d-4a73-9179-0733d74fa92a"
      },
      "execution_count": null,
      "outputs": [
        {
          "output_type": "stream",
          "name": "stdout",
          "text": [
            "\u001b[?25l     \u001b[90m━━━━━━━━━━━━━━━━━━━━━━━━━━━━━━━━━━━━━━━━\u001b[0m \u001b[32m0.0/68.6 kB\u001b[0m \u001b[31m?\u001b[0m eta \u001b[36m-:--:--\u001b[0m\r\u001b[2K     \u001b[90m━━━━━━━━━━━━━━━━━━━━━━━━━━━━━━━━━━━━━━━━\u001b[0m \u001b[32m68.6/68.6 kB\u001b[0m \u001b[31m3.3 MB/s\u001b[0m eta \u001b[36m0:00:00\u001b[0m\n",
            "\u001b[?25h  Preparing metadata (setup.py) ... \u001b[?25l\u001b[?25hdone\n",
            "  Building wheel for uuid (setup.py) ... \u001b[?25l\u001b[?25hdone\n"
          ]
        }
      ]
    },
    {
      "cell_type": "code",
      "source": [
        "import jovian\n",
        "jovian.commit(project='Data analysis and python')"
      ],
      "metadata": {
        "id": "vb7HUBQdD4p4",
        "colab": {
          "base_uri": "https://localhost:8080/"
        },
        "outputId": "2ee367eb-04c1-4e29-b518-59b8ed15ca0c"
      },
      "execution_count": null,
      "outputs": [
        {
          "output_type": "stream",
          "name": "stdout",
          "text": [
            "[jovian] Detected Colab notebook...\u001b[0m\n",
            "[jovian] jovian.commit() is no longer required on Google Colab. If you ran this notebook from Jovian, \n",
            "then just save this file in Colab using Ctrl+S/Cmd+S and it will be updated on Jovian. \n",
            "Also, you can also delete this cell, it's no longer necessary.\u001b[0m\n"
          ]
        }
      ]
    },
    {
      "cell_type": "markdown",
      "source": [
        " **Lession - 2(Branching and looping)**\n",
        "* Branching with if, else and elif\n",
        "* Nested conditions and if expressions\n",
        "* Iteration with while loops\n",
        "* Iterating over containers with for loops\n",
        "* Nested loops, break and continue statements"
      ],
      "metadata": {
        "id": "xqEmC3MOHLtT"
      }
    },
    {
      "cell_type": "code",
      "source": [
        "num = 100001\n",
        "if num % 2 == 0:\n",
        "  print('Inside if') \n",
        "  print('{} is a even number'.format(num))\n",
        "else:\n",
        "  print('Odd number.')"
      ],
      "metadata": {
        "colab": {
          "base_uri": "https://localhost:8080/"
        },
        "id": "7JJZDKkoK1uX",
        "outputId": "1d17042b-a9dd-45ab-c4c4-01291fc707e7"
      },
      "execution_count": null,
      "outputs": [
        {
          "output_type": "stream",
          "name": "stdout",
          "text": [
            "Odd number.\n"
          ]
        }
      ]
    },
    {
      "cell_type": "code",
      "source": [
        "people = ('Rishi','Ridhi','Rdhima')\n",
        "person = 'Ridhi'\n",
        "if person in people:\n",
        "  print('{} is a masketier'.format(person))"
      ],
      "metadata": {
        "colab": {
          "base_uri": "https://localhost:8080/"
        },
        "id": "no26inkRzQiq",
        "outputId": "52d3b33b-27d6-4a24-b304-c01d23ac10d9"
      },
      "execution_count": null,
      "outputs": [
        {
          "output_type": "stream",
          "name": "stdout",
          "text": [
            "Ridhi is a masketier\n"
          ]
        }
      ]
    },
    {
      "cell_type": "code",
      "source": [
        "today = 'Wednesday'\n",
        "if today == 'Sunday':\n",
        "    print(\"Today is the day of the sun.\")\n",
        "elif today == 'Monday':\n",
        "    print(\"Today is the day of the moon.\")\n",
        "elif today == 'Tuesday':\n",
        "    print(\"Today is the day of Tyr, the god of war.\")\n",
        "elif today == 'Wednesday':\n",
        "    print(\"Today is the day of Odin, the supreme diety.\")\n",
        "elif today == 'Thursday':\n",
        "    print(\"Today is the day of Thor, the god of thunder.\")\n",
        "elif today == 'Friday':\n",
        "    print(\"Today is the day of Frigga, the goddess of beauty.\")\n",
        "elif today == 'Saturday':\n",
        "    print(\"Today is the day of Saturn, the god of fun and feasting.\")"
      ],
      "metadata": {
        "id": "KzddUGcLLPzg",
        "colab": {
          "base_uri": "https://localhost:8080/"
        },
        "outputId": "2268899c-bc79-4913-97f6-b5fa155c0a7a"
      },
      "execution_count": null,
      "outputs": [
        {
          "output_type": "stream",
          "name": "stdout",
          "text": [
            "Today is the day of Odin, the supreme diety.\n"
          ]
        }
      ]
    },
    {
      "cell_type": "code",
      "source": [
        "a_number = 31\n",
        "if a_number % 2 == 0:\n",
        "    print('{} is divisible by 2'.format(a_number))\n",
        "elif a_number % 3 == 0:\n",
        "    print('{} is divisible by 3'.format(a_number))\n",
        "elif a_number % 5 == 0:\n",
        "    print('{} is divisible by 5'.format(a_number))\n",
        "elif a_number % 7 == 0:\n",
        "    print('{} is divisible by 7'.format(a_number))\n",
        "else:\n",
        "  print('Only divisible by 1 and itself')\n",
        "    "
      ],
      "metadata": {
        "colab": {
          "base_uri": "https://localhost:8080/"
        },
        "id": "bj7dX51P0IeD",
        "outputId": "2fb8a25e-bb40-42bf-d349-e2ce10bc8599"
      },
      "execution_count": null,
      "outputs": [
        {
          "output_type": "stream",
          "name": "stdout",
          "text": [
            "Only divisible by 1 and itself\n"
          ]
        }
      ]
    },
    {
      "cell_type": "markdown",
      "source": [
        "* Shorthand conditional statement\n",
        "Python provides a shorter syntax, which allows writing such conditions in a single line of code. It is known as a *conditional expression*, sometimes also referred to as a *ternary operator*. It has the following syntax:\n",
        "\n",
        "```\n",
        "x = true_value if condition else false_value\n",
        "```\n",
        "\n",
        "It has the same behavior as the following `if`-`else` block:\n",
        "\n",
        "```\n",
        "if condition:\n",
        "    x = true_value\n",
        "else:\n",
        "    x = false_value\n",
        "```\n",
        "\n",
        "Let's try it out for the example above."
      ],
      "metadata": {
        "id": "gOZTHcoB0-BC"
      }
    },
    {
      "cell_type": "code",
      "source": [
        "num = 421\n",
        "parity = 'even' if num%2 == 0 else 'odd'\n",
        "print(parity)"
      ],
      "metadata": {
        "colab": {
          "base_uri": "https://localhost:8080/"
        },
        "id": "hRIIZtIk0kEp",
        "outputId": "af020950-ca92-47a8-ac1a-3dd8e9b401ee"
      },
      "execution_count": null,
      "outputs": [
        {
          "output_type": "stream",
          "name": "stdout",
          "text": [
            "odd\n"
          ]
        }
      ]
    },
    {
      "cell_type": "markdown",
      "source": [
        "### The `pass` statement\n",
        "\n",
        "`if` statements cannot be empty, there must be at least one statement in every `if` and `elif` block. You can use the `pass` statement to do nothing and avoid getting an error."
      ],
      "metadata": {
        "id": "2IP5S8Io2PKP"
      }
    },
    {
      "cell_type": "code",
      "source": [
        "from ast import Num\n",
        "if num % 2 == 0:\n",
        "   pass\n",
        "elif num % 3 == 0:\n",
        "    print('{} is divisible by 3 but not divisible by 2'.format(num))"
      ],
      "metadata": {
        "id": "XA5-jArH1zSq"
      },
      "execution_count": null,
      "outputs": []
    },
    {
      "cell_type": "markdown",
      "source": [
        "* *Looping*\n",
        "  * While Loop\n",
        "  * For Loop"
      ],
      "metadata": {
        "id": "2M5AmU2h2zOP"
      }
    },
    {
      "cell_type": "code",
      "source": [
        "result = 1\n",
        "i = 1\n",
        "while i <= 100:\n",
        "  result = result * i\n",
        "  i = i + 1\n",
        "print('Factorial of 100 is {}'.format(result))"
      ],
      "metadata": {
        "colab": {
          "base_uri": "https://localhost:8080/"
        },
        "id": "A7UuWun42ePv",
        "outputId": "b07d65eb-7526-4599-e428-ec282c5051dc"
      },
      "execution_count": null,
      "outputs": [
        {
          "output_type": "stream",
          "name": "stdout",
          "text": [
            "Factorial of 100 is 93326215443944152681699238856266700490715968264381621468592963895217599993229915608941463976156518286253697920827223758251185210916864000000000000000000000000\n"
          ]
        }
      ]
    },
    {
      "cell_type": "markdown",
      "source": [
        "* Star printing"
      ],
      "metadata": {
        "id": "E3vPVr1z4B2G"
      }
    },
    {
      "cell_type": "code",
      "source": [
        "line = '*'\n",
        "max_len = 10\n",
        "\n",
        "while len(line) < max_len:\n",
        "  print(line)\n",
        "  line += '*'\n",
        "\n",
        "while len(line) > 0:\n",
        "  print(line)\n",
        "  line = line[:-1]\n",
        "\n"
      ],
      "metadata": {
        "colab": {
          "base_uri": "https://localhost:8080/"
        },
        "id": "W9GjdvU23pb_",
        "outputId": "b7261497-13ab-4064-e405-25fee5171f4b"
      },
      "execution_count": null,
      "outputs": [
        {
          "output_type": "stream",
          "name": "stdout",
          "text": [
            "*\n",
            "**\n",
            "***\n",
            "****\n",
            "*****\n",
            "******\n",
            "*******\n",
            "********\n",
            "*********\n",
            "**********\n",
            "*********\n",
            "********\n",
            "*******\n",
            "******\n",
            "*****\n",
            "****\n",
            "***\n",
            "**\n",
            "*\n"
          ]
        }
      ]
    },
    {
      "cell_type": "code",
      "source": [
        "hash = '#'\n",
        "for i in range(5):\n",
        "  hash += hash\n",
        "print(hash, end = '\\n')"
      ],
      "metadata": {
        "colab": {
          "base_uri": "https://localhost:8080/"
        },
        "id": "0-WpSvfU9DDF",
        "outputId": "00aaf039-c2e2-44ba-f362-8c72a6ce6b9e"
      },
      "execution_count": null,
      "outputs": [
        {
          "output_type": "stream",
          "name": "stdout",
          "text": [
            "################################\n"
          ]
        }
      ]
    },
    {
      "cell_type": "markdown",
      "source": [
        "### `break` and `continue` statements\n",
        "\n",
        "You can use the `break` statement within the loop's body to immediately stop the execution and *break* out of the loop (even if the condition provided to `while` still holds true)."
      ],
      "metadata": {
        "id": "g2KiLU9j88Lx"
      }
    },
    {
      "cell_type": "code",
      "source": [
        "i = 1\n",
        "result = 1\n",
        "\n",
        "while i <= 100:\n",
        "    result *= i\n",
        "    if i == 42:\n",
        "        print('Magic number 42 reached! Stopping execution..')\n",
        "        break\n",
        "    i += 1\n",
        "    \n",
        "print('i:', i)\n",
        "print('result:', result)"
      ],
      "metadata": {
        "colab": {
          "base_uri": "https://localhost:8080/"
        },
        "id": "f68Cof0V89vx",
        "outputId": "bba7299c-caa4-4239-dac6-1debf1902a7c"
      },
      "execution_count": null,
      "outputs": [
        {
          "output_type": "stream",
          "name": "stdout",
          "text": [
            "Magic number 42 reached! Stopping execution..\n",
            "i: 42\n",
            "result: 1405006117752879898543142606244511569936384000000000\n"
          ]
        }
      ]
    },
    {
      "cell_type": "markdown",
      "source": [
        "* Infinite loop"
      ],
      "metadata": {
        "id": "AtwJ9pb2aTnk"
      }
    },
    {
      "cell_type": "code",
      "source": [
        "i = 1\n",
        "res = 10\n",
        "while i>0:\n",
        "  if res > 100:\n",
        "    break ## breaking from loop when res = 100\n",
        "  res += i\n",
        "  print(res)\n",
        "  i+=1\n",
        "print('result = {}'.format(res))\n",
        "print(f'result = {res}')"
      ],
      "metadata": {
        "colab": {
          "base_uri": "https://localhost:8080/"
        },
        "id": "0deyFwYXZ8DO",
        "outputId": "73244d14-7632-46b2-c56c-d61220b6c84c"
      },
      "execution_count": 4,
      "outputs": [
        {
          "output_type": "stream",
          "name": "stdout",
          "text": [
            "11\n",
            "13\n",
            "16\n",
            "20\n",
            "25\n",
            "31\n",
            "38\n",
            "46\n",
            "55\n",
            "65\n",
            "76\n",
            "88\n",
            "101\n",
            "result = 101\n",
            "result = 101\n"
          ]
        }
      ]
    },
    {
      "cell_type": "markdown",
      "source": [
        "## Iteration with `for` loops\n",
        "\n",
        "A `for` loop is used for iterating or looping over sequences, i.e., lists, tuples, dictionaries, strings, and *ranges*. For loops have the following syntax:\n",
        "\n",
        "```\n",
        "for value in sequence:\n",
        "    statement(s)\n",
        "```\n",
        "\n",
        "The statements within the loop are executed once for each element in `sequence`. Here's an example that prints all the element of a list."
      ],
      "metadata": {
        "id": "AHb9_eflfz-R"
      }
    },
    {
      "cell_type": "code",
      "source": [
        "days = ['Monday', 'Tuesday', 'Wednesday', 'Thursday', 'Friday']\n",
        "\n",
        "for day in days:\n",
        "    print(day)"
      ],
      "metadata": {
        "colab": {
          "base_uri": "https://localhost:8080/"
        },
        "id": "ZG6e8O5ziYb-",
        "outputId": "73ae745d-ae2c-4720-f2d8-36af2f323e5b"
      },
      "execution_count": 10,
      "outputs": [
        {
          "output_type": "stream",
          "name": "stdout",
          "text": [
            "Monday\n",
            "Tuesday\n",
            "Wednesday\n",
            "Thursday\n",
            "Friday\n"
          ]
        }
      ]
    },
    {
      "cell_type": "markdown",
      "source": [
        "Let's try using `for` loops with some other data types.\n",
        "* Looping over a string"
      ],
      "metadata": {
        "id": "zSWasQu7jF9t"
      }
    },
    {
      "cell_type": "code",
      "source": [
        "# Looping over a string\n",
        "for char in 'Monday':\n",
        "    print(char)"
      ],
      "metadata": {
        "colab": {
          "base_uri": "https://localhost:8080/"
        },
        "id": "2Mxw7LrSjJ2K",
        "outputId": "2dcd3bb6-583d-4037-bed8-0405802c758b"
      },
      "execution_count": 11,
      "outputs": [
        {
          "output_type": "stream",
          "name": "stdout",
          "text": [
            "M\n",
            "o\n",
            "n\n",
            "d\n",
            "a\n",
            "y\n"
          ]
        }
      ]
    },
    {
      "cell_type": "markdown",
      "source": [
        "* Looping over a tuple"
      ],
      "metadata": {
        "id": "rh0e25w_jXAT"
      }
    },
    {
      "cell_type": "code",
      "source": [
        "# Looping over a tuple\n",
        "for fruit in ('Apple', 'Banana', 'Guava'):\n",
        "    print(\"Here's a fruit:\", fruit)"
      ],
      "metadata": {
        "colab": {
          "base_uri": "https://localhost:8080/"
        },
        "id": "Q-aHZeK2jc3D",
        "outputId": "68e25aa3-2522-4562-9820-3fa4cb9526b6"
      },
      "execution_count": 12,
      "outputs": [
        {
          "output_type": "stream",
          "name": "stdout",
          "text": [
            "Here's a fruit: Apple\n",
            "Here's a fruit: Banana\n",
            "Here's a fruit: Guava\n"
          ]
        }
      ]
    },
    {
      "cell_type": "markdown",
      "source": [
        "* Looping over a dictionary"
      ],
      "metadata": {
        "id": "Gwz3dVzSjumM"
      }
    },
    {
      "cell_type": "code",
      "source": [
        "# Looping over a dictionary\n",
        "person = {\n",
        "    'name': 'John Doe',\n",
        "    'sex': 'Male',\n",
        "    'age': 32,\n",
        "    'married': True\n",
        "}\n",
        "\n",
        "for key in person:\n",
        "    print(\"Key:\", key, \",\", \"Value:\", person[key])\n",
        "\n",
        "## printing keys\n",
        "print('#'*50)\n",
        "for val in person.values():\n",
        "  print(val)\n",
        "\n",
        "## print key-val pair\n",
        "print('#'*50)\n",
        "for key_value_pair in person.items():\n",
        "    print(key_value_pair)"
      ],
      "metadata": {
        "colab": {
          "base_uri": "https://localhost:8080/"
        },
        "id": "FOyuJ_7xjykL",
        "outputId": "f6dd24b4-3804-4f43-912c-a366ac842e24"
      },
      "execution_count": 18,
      "outputs": [
        {
          "output_type": "stream",
          "name": "stdout",
          "text": [
            "Key: name , Value: John Doe\n",
            "Key: sex , Value: Male\n",
            "Key: age , Value: 32\n",
            "Key: married , Value: True\n",
            "##################################################\n",
            "John Doe\n",
            "Male\n",
            "32\n",
            "True\n",
            "##################################################\n",
            "('name', 'John Doe')\n",
            "('sex', 'Male')\n",
            "('age', 32)\n",
            "('married', True)\n"
          ]
        }
      ]
    },
    {
      "cell_type": "markdown",
      "source": [
        "### Iterating using `range` and `enumerate`\n",
        "\n",
        "The `range` function is used to create a sequence of numbers that can be iterated over using a `for` loop. It can be used in 3 ways:\n",
        " \n",
        "* `range(n)` - Creates a sequence of numbers from `0` to `n-1`\n",
        "* `range(a, b)` - Creates a sequence of numbers from `a` to `b-1`\n",
        "* `range(a, b, step)` - Creates a sequence of numbers from `a` to `b-1` with increments of `step`\n",
        "\n",
        "Let's try it out."
      ],
      "metadata": {
        "id": "CM4ebuyCksmr"
      }
    },
    {
      "cell_type": "code",
      "source": [
        "for i in range(7):\n",
        "    print(i, end=' ')"
      ],
      "metadata": {
        "colab": {
          "base_uri": "https://localhost:8080/"
        },
        "id": "ZPRL7759jzNb",
        "outputId": "e330d9c7-2195-41aa-92de-11274c248a56"
      },
      "execution_count": 21,
      "outputs": [
        {
          "output_type": "stream",
          "name": "stdout",
          "text": [
            "0 1 2 3 4 5 6 "
          ]
        }
      ]
    },
    {
      "cell_type": "code",
      "source": [
        "for i in range(3, 10):\n",
        "    print(i, end=' ')"
      ],
      "metadata": {
        "colab": {
          "base_uri": "https://localhost:8080/"
        },
        "id": "qb6PAqPdkwRt",
        "outputId": "968943c3-db26-47df-fe6b-83feebe306bc"
      },
      "execution_count": 23,
      "outputs": [
        {
          "output_type": "stream",
          "name": "stdout",
          "text": [
            "3 4 5 6 7 8 9 "
          ]
        }
      ]
    },
    {
      "cell_type": "code",
      "source": [
        "for i in range(3, 14, 4):\n",
        "    print(i, end=' ')"
      ],
      "metadata": {
        "colab": {
          "base_uri": "https://localhost:8080/"
        },
        "id": "9henVjenlBA1",
        "outputId": "0f87f79b-0522-4d96-e28a-7de557a82e50"
      },
      "execution_count": 25,
      "outputs": [
        {
          "output_type": "stream",
          "name": "stdout",
          "text": [
            "3 7 11 "
          ]
        }
      ]
    },
    {
      "cell_type": "markdown",
      "source": [
        "* Ranges are used for iterating over lists when you need to track the index of elements while iterating."
      ],
      "metadata": {
        "id": "nDqOPKw6lQtx"
      }
    },
    {
      "cell_type": "code",
      "source": [
        "a_list = ['Monday', 'Tuesday', 'Wednesday', 'Thursday', 'Friday']\n",
        "\n",
        "for i in range(len(a_list)):\n",
        "    print('The value at position {} is {}.'.format(i, a_list[i]))"
      ],
      "metadata": {
        "colab": {
          "base_uri": "https://localhost:8080/"
        },
        "id": "LBidr0_8lUF0",
        "outputId": "13ad2c8b-dfb3-4c49-c442-5e1eb3dcdd91"
      },
      "execution_count": 26,
      "outputs": [
        {
          "output_type": "stream",
          "name": "stdout",
          "text": [
            "The value at position 0 is Monday.\n",
            "The value at position 1 is Tuesday.\n",
            "The value at position 2 is Wednesday.\n",
            "The value at position 3 is Thursday.\n",
            "The value at position 4 is Friday.\n"
          ]
        }
      ]
    },
    {
      "cell_type": "markdown",
      "source": [
        "* Another way to achieve the same result is by using the `enumerate` function with `a_list` as an input, which returns a tuple containing the index and the corresponding element.**bold text**"
      ],
      "metadata": {
        "id": "AHYVbGXXllIi"
      }
    },
    {
      "cell_type": "code",
      "source": [
        "for i, val in enumerate(a_list):\n",
        "    print('The value at position {} is {}.'.format(i, val))"
      ],
      "metadata": {
        "colab": {
          "base_uri": "https://localhost:8080/"
        },
        "id": "CvNcaLi2ljWp",
        "outputId": "aa25aa49-5c9d-4111-9672-b0c2cb47fd39"
      },
      "execution_count": 27,
      "outputs": [
        {
          "output_type": "stream",
          "name": "stdout",
          "text": [
            "The value at position 0 is Monday.\n",
            "The value at position 1 is Tuesday.\n",
            "The value at position 2 is Wednesday.\n",
            "The value at position 3 is Thursday.\n",
            "The value at position 4 is Friday.\n"
          ]
        }
      ]
    },
    {
      "cell_type": "markdown",
      "source": [
        "### `break`, `continue` and `pass` statements\n",
        "\n",
        "Similar to `while` loops, `for` loops also support the `break` and `continue` statements. `break` is used for breaking out of the loop and `continue` is used for skipping ahead to the next iteration."
      ],
      "metadata": {
        "id": "eUFC7Zg8lxBZ"
      }
    },
    {
      "cell_type": "code",
      "source": [
        "weekdays = ['Monday', 'Tuesday', 'Wednesday', 'Thursday', 'Friday']\n",
        "for day in weekdays:\n",
        "    print('Today is {}'.format(day))\n",
        "    if (day == 'Wednesday'):\n",
        "        print(\"I don't work beyond Wednesday!\")\n",
        "        break"
      ],
      "metadata": {
        "colab": {
          "base_uri": "https://localhost:8080/"
        },
        "id": "if4a_9f3lyQB",
        "outputId": "c5996ef3-7aea-44bb-cf89-6a4e4208a179"
      },
      "execution_count": 28,
      "outputs": [
        {
          "output_type": "stream",
          "name": "stdout",
          "text": [
            "Today is Monday\n",
            "Today is Tuesday\n",
            "Today is Wednesday\n",
            "I don't work beyond Wednesday!\n"
          ]
        }
      ]
    },
    {
      "cell_type": "markdown",
      "source": [],
      "metadata": {
        "id": "SGL_TqK7l6CZ"
      }
    },
    {
      "cell_type": "code",
      "source": [
        "for day in weekdays:\n",
        "    if (day == 'Wednesday'):\n",
        "        print(\"I don't work on Wednesday!\")\n",
        "        continue\n",
        "    print('Today is {}'.format(day))"
      ],
      "metadata": {
        "colab": {
          "base_uri": "https://localhost:8080/"
        },
        "id": "mSJVRwcWl8gb",
        "outputId": "0dd5ba5c-5d16-47bd-ba19-66e45c2f0126"
      },
      "execution_count": 29,
      "outputs": [
        {
          "output_type": "stream",
          "name": "stdout",
          "text": [
            "Today is Monday\n",
            "Today is Tuesday\n",
            "I don't work on Wednesday!\n",
            "Today is Thursday\n",
            "Today is Friday\n"
          ]
        }
      ]
    },
    {
      "cell_type": "markdown",
      "source": [
        "* Like `if` statements, `for` loops cannot be empty, so you can use a `pass` statement if you don't want to execute any statements inside the loop."
      ],
      "metadata": {
        "id": "A5vQf6ZBmO7F"
      }
    },
    {
      "cell_type": "code",
      "source": [
        "for day in weekdays:\n",
        "    pass"
      ],
      "metadata": {
        "id": "GmSEY0WymNJ5"
      },
      "execution_count": 30,
      "outputs": []
    },
    {
      "cell_type": "markdown",
      "source": [
        "* ### Nested `for` and `while` loops\n",
        "\n",
        "Similar to conditional statements, loops can be nested inside other loops. This is useful for looping lists of lists, dictionaries etc."
      ],
      "metadata": {
        "id": "XGkTydzSmg3w"
      }
    },
    {
      "cell_type": "code",
      "source": [
        "persons = [{'name': 'John', 'sex': 'Male'}, {'name': 'Jane', 'sex': 'Female'}]\n",
        "\n",
        "for person in persons:\n",
        "    for key in person:\n",
        "        print(key, \":\", person[key])\n",
        "    print(\" \")"
      ],
      "metadata": {
        "colab": {
          "base_uri": "https://localhost:8080/"
        },
        "id": "m29BbvNEmiF5",
        "outputId": "bf1cf42e-ce9d-46df-8f58-4e2e62f09a2d"
      },
      "execution_count": 31,
      "outputs": [
        {
          "output_type": "stream",
          "name": "stdout",
          "text": [
            "name : John\n",
            "sex : Male\n",
            " \n",
            "name : Jane\n",
            "sex : Female\n",
            " \n"
          ]
        }
      ]
    },
    {
      "cell_type": "code",
      "source": [
        "days = ['Monday', 'Tuesday', 'Wednesday']\n",
        "fruits = ['apple', 'banana', 'guava']\n",
        "\n",
        "for day in days:\n",
        "    for fruit in fruits:\n",
        "        print(day, fruit)"
      ],
      "metadata": {
        "colab": {
          "base_uri": "https://localhost:8080/"
        },
        "id": "vgrs50ybm5mI",
        "outputId": "0224248a-430d-44f8-e365-653f2ab080aa"
      },
      "execution_count": 32,
      "outputs": [
        {
          "output_type": "stream",
          "name": "stdout",
          "text": [
            "Monday apple\n",
            "Monday banana\n",
            "Monday guava\n",
            "Tuesday apple\n",
            "Tuesday banana\n",
            "Tuesday guava\n",
            "Wednesday apple\n",
            "Wednesday banana\n",
            "Wednesday guava\n"
          ]
        }
      ]
    },
    {
      "cell_type": "code",
      "source": [
        "l1 = ['hi', 'hello']\n",
        "l2 = ['sad', 'unhappy']\n",
        "\n",
        "tweets = [\n",
        "    'hi, i am good',\n",
        "    'hello, hw r u?',\n",
        "    'I am sad',\n",
        "    'I am unhappy',\n",
        "    'i am neutral',\n",
        "    'i will be neutral'\n",
        "]\n",
        "\n",
        "filtered_tweets = []\n",
        "\n",
        "for tweet in tweets:\n",
        "    contains_l1 = any(word in tweet.lower() for word in l1)\n",
        "    contains_l2 = any(word in tweet.lower() for word in l2)\n",
        "    if not contains_l1 and not contains_l2:\n",
        "        filtered_tweets.append(tweet)\n",
        "\n",
        "# Print the filtered tweets\n",
        "for tweet in filtered_tweets:\n",
        "    print(tweet)\n"
      ],
      "metadata": {
        "colab": {
          "base_uri": "https://localhost:8080/"
        },
        "id": "0hSv31aT5eMg",
        "outputId": "c305c846-5893-4357-98ae-a8bf008e28d3"
      },
      "execution_count": 17,
      "outputs": [
        {
          "output_type": "stream",
          "name": "stdout",
          "text": [
            "i am neutral\n",
            "i will be neutral\n"
          ]
        }
      ]
    },
    {
      "cell_type": "markdown",
      "source": [
        "Revision:"
      ],
      "metadata": {
        "id": "S4POE4dSnp7q"
      }
    },
    {
      "cell_type": "markdown",
      "source": [
        "* What is branching?\n",
        "\n",
        "Branching in programming languages refers to the ability to alter the flow of program execution based on certain conditions. It allows the program to make decisions and choose different paths of execution depending on whether specific conditions are met or not."
      ],
      "metadata": {
        "id": "c4OQQDWCnuQX"
      }
    },
    {
      "cell_type": "code",
      "source": [],
      "metadata": {
        "id": "9PSyZFwpmlje"
      },
      "execution_count": null,
      "outputs": []
    }
  ]
}